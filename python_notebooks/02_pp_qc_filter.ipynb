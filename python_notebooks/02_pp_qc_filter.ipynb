{
 "cells": [
  {
   "cell_type": "code",
   "execution_count": 1,
   "id": "a0993c88",
   "metadata": {},
   "outputs": [],
   "source": [
    "import scanpy as sc\n",
    "from pathlib import Path\n",
    "import os\n",
    "\n",
    "sc.settings.verbosity = 0"
   ]
  },
  {
   "cell_type": "code",
   "execution_count": 2,
   "id": "ec9800b1",
   "metadata": {},
   "outputs": [],
   "source": [
    "### Quality control\n",
    "def filter_pp_qc(sample):\n",
    "    # Filtering for cell and genes\n",
    "    sample.var_names_make_unique()\n",
    "    sc.pp.filter_cells(sample, min_genes=200)\n",
    "    sc.pp.filter_genes(sample, min_cells=3)\n",
    "    # mitochondrial genes\n",
    "    sample.var[\"mt\"] = sample.var_names.str.startswith(\"MT-\")\n",
    "    # ribosomal genes\n",
    "    sample.var[\"ribo\"] = sample.var_names.str.startswith((\"RPS\", \"RPL\"))\n",
    "    sc.pp.calculate_qc_metrics(sample, qc_vars=[\"mt\", \"ribo\"], inplace=True)\n",
    "    # Remove cells with high mitochondrial gene percentage\n",
    "    sample = sample[sample.obs.pct_counts_mt < 15, :]\n",
    "    # Optional: filter based on percent mitochondria or number of genes\n",
    "    #sc.pp.normalize_total(sample, target_sum=1e4)\n",
    "    #sc.pp.log1p(sample)\n",
    "    # sc.pp.highly_variable_genes(sample, flavor='seurat', n_top_genes=2000)\n",
    "\n",
    "    return sample"
   ]
  },
  {
   "cell_type": "code",
   "execution_count": null,
   "id": "503f78ad",
   "metadata": {},
   "outputs": [],
   "source": [
    "# dictionary to map sample identifiers to sample properties\n",
    "files = {\n",
    "    \"GSM4446535\": \"week8_001\",\n",
    "    \"GSM4446536\": \"week9_063\",\n",
    "    \"GSM4446537\": \"week6_088\",\n",
    "    \"GSM4446538\": \"week14_123\",\n",
    "    \"GSM4446539\": \"week12_124\",\n",
    "    \"GSM4446540\": \"week8_125\",\n",
    "    \"GSM4446541\": \"week9_005\",\n",
    "    \"GSM4446542\": \"week11_006\",\n",
    "    \"GSM4446543\": \"week9_007\",\n",
    "    \"GSM4734601\": \"week8_016\",\n",
    "    \"GSM4734602\": \"week9_031_paraganglia\",\n",
    "    \"GSM4734603\": \"week12_035\",\n",
    "    \"GSM4734604\": \"week12_036_extraadrenal\",\n",
    "}"
   ]
  },
  {
   "cell_type": "code",
   "execution_count": 4,
   "id": "2d06520b",
   "metadata": {},
   "outputs": [],
   "source": [
    "def concat_h5_files(\n",
    "    files: dict, raw_dir=\"data/raw/GSE147821_RAW\", out_dir=\"data/processed\", overwrite=False, log=False,\n",
    "):\n",
    "    concat_file = Path(out_dir) / \"concatenated.h5ad\"\n",
    "    Path(out_dir).mkdir(exist_ok=True, parents=True)\n",
    "    if not Path(concat_file).exists() or overwrite:\n",
    "        samples = []\n",
    "        for key in files:\n",
    "            # find the file\n",
    "            h5_file = [key for key in os.listdir(raw_dir) if key.startswith(key)][0]\n",
    "            # find the matching info\n",
    "            info = files[key]\n",
    "            # extract the information from the file name\n",
    "            week_str = info.split(\"_\")[0]  # gets the week as string\n",
    "            week = week_str.split(\"week\")[1]  # converts to integer\n",
    "            sample_name = info.split(\"_\")[1]  # gets the sample name\n",
    "\n",
    "            # assign the full path\n",
    "            full_path = Path(raw_dir) / h5_file\n",
    "\n",
    "            # read the file\n",
    "            sample = filter_pp_qc(sc.read_10x_h5(full_path))  # filter the sample\n",
    "            sample.obs_names = [f\"{info}_{cell}\" for cell in sample.obs_names]\n",
    "\n",
    "            # Add metadata\n",
    "            sample.obs[\"sample_id\"] = sample_name\n",
    "            sample.obs[\"week\"] = week\n",
    "            sample.obs[\"batch\"] = info\n",
    "\n",
    "            # append to the list\n",
    "            samples.append(sample)\n",
    "        # concatenate the samples\n",
    "        adt = sc.concat(samples)\n",
    "        if log:\n",
    "            # save the raw data\n",
    "            adt.raw = adt\n",
    "            # normalize the data\n",
    "            sc.pp.log1p(adt)\n",
    "\n",
    "        adt.layers[\"counts\"] = adt.X.copy()  # Preserve original counts\n",
    "        # Select highly variable genes globally\n",
    "        sc.pp.normalize_total(adt, target_sum=1e4)\n",
    "        # log transform the data\n",
    "        sc.pp.log1p(adt)\n",
    "        # save the file\n",
    "        adt.write_h5ad(concat_file)\n",
    "    else:\n",
    "        adt = sc.read_h5ad(concat_file)\n",
    "\n",
    "    return adt\n"
   ]
  },
  {
   "cell_type": "code",
   "execution_count": 5,
   "id": "3defc38e",
   "metadata": {},
   "outputs": [
    {
     "name": "stderr",
     "output_type": "stream",
     "text": [
      "/Users/zaf4/dev/CCRItask/.venv/lib/python3.13/site-packages/anndata/_core/anndata.py:1758: UserWarning: Variable names are not unique. To make them unique, call `.var_names_make_unique`.\n",
      "  utils.warn_names_duplicates(\"var\")\n",
      "/Users/zaf4/dev/CCRItask/.venv/lib/python3.13/site-packages/anndata/_core/anndata.py:1758: UserWarning: Variable names are not unique. To make them unique, call `.var_names_make_unique`.\n",
      "  utils.warn_names_duplicates(\"var\")\n",
      "OMP: Info #276: omp_set_nested routine deprecated, please use omp_set_max_active_levels instead.\n",
      "/Users/zaf4/dev/CCRItask/.venv/lib/python3.13/site-packages/anndata/_core/anndata.py:1758: UserWarning: Variable names are not unique. To make them unique, call `.var_names_make_unique`.\n",
      "  utils.warn_names_duplicates(\"var\")\n",
      "/Users/zaf4/dev/CCRItask/.venv/lib/python3.13/site-packages/anndata/_core/anndata.py:1758: UserWarning: Variable names are not unique. To make them unique, call `.var_names_make_unique`.\n",
      "  utils.warn_names_duplicates(\"var\")\n",
      "/Users/zaf4/dev/CCRItask/.venv/lib/python3.13/site-packages/anndata/_core/anndata.py:1758: UserWarning: Variable names are not unique. To make them unique, call `.var_names_make_unique`.\n",
      "  utils.warn_names_duplicates(\"var\")\n",
      "/Users/zaf4/dev/CCRItask/.venv/lib/python3.13/site-packages/anndata/_core/anndata.py:1758: UserWarning: Variable names are not unique. To make them unique, call `.var_names_make_unique`.\n",
      "  utils.warn_names_duplicates(\"var\")\n",
      "/Users/zaf4/dev/CCRItask/.venv/lib/python3.13/site-packages/anndata/_core/anndata.py:1758: UserWarning: Variable names are not unique. To make them unique, call `.var_names_make_unique`.\n",
      "  utils.warn_names_duplicates(\"var\")\n",
      "/Users/zaf4/dev/CCRItask/.venv/lib/python3.13/site-packages/anndata/_core/anndata.py:1758: UserWarning: Variable names are not unique. To make them unique, call `.var_names_make_unique`.\n",
      "  utils.warn_names_duplicates(\"var\")\n",
      "/Users/zaf4/dev/CCRItask/.venv/lib/python3.13/site-packages/anndata/_core/anndata.py:1758: UserWarning: Variable names are not unique. To make them unique, call `.var_names_make_unique`.\n",
      "  utils.warn_names_duplicates(\"var\")\n",
      "/Users/zaf4/dev/CCRItask/.venv/lib/python3.13/site-packages/anndata/_core/anndata.py:1758: UserWarning: Variable names are not unique. To make them unique, call `.var_names_make_unique`.\n",
      "  utils.warn_names_duplicates(\"var\")\n",
      "/Users/zaf4/dev/CCRItask/.venv/lib/python3.13/site-packages/anndata/_core/anndata.py:1758: UserWarning: Variable names are not unique. To make them unique, call `.var_names_make_unique`.\n",
      "  utils.warn_names_duplicates(\"var\")\n",
      "/Users/zaf4/dev/CCRItask/.venv/lib/python3.13/site-packages/anndata/_core/anndata.py:1758: UserWarning: Variable names are not unique. To make them unique, call `.var_names_make_unique`.\n",
      "  utils.warn_names_duplicates(\"var\")\n",
      "/Users/zaf4/dev/CCRItask/.venv/lib/python3.13/site-packages/anndata/_core/anndata.py:1758: UserWarning: Variable names are not unique. To make them unique, call `.var_names_make_unique`.\n",
      "  utils.warn_names_duplicates(\"var\")\n",
      "/Users/zaf4/dev/CCRItask/.venv/lib/python3.13/site-packages/anndata/_core/anndata.py:1758: UserWarning: Variable names are not unique. To make them unique, call `.var_names_make_unique`.\n",
      "  utils.warn_names_duplicates(\"var\")\n",
      "/Users/zaf4/dev/CCRItask/.venv/lib/python3.13/site-packages/anndata/_core/anndata.py:1758: UserWarning: Variable names are not unique. To make them unique, call `.var_names_make_unique`.\n",
      "  utils.warn_names_duplicates(\"var\")\n",
      "/Users/zaf4/dev/CCRItask/.venv/lib/python3.13/site-packages/anndata/_core/anndata.py:1758: UserWarning: Variable names are not unique. To make them unique, call `.var_names_make_unique`.\n",
      "  utils.warn_names_duplicates(\"var\")\n",
      "/Users/zaf4/dev/CCRItask/.venv/lib/python3.13/site-packages/anndata/_core/anndata.py:1758: UserWarning: Variable names are not unique. To make them unique, call `.var_names_make_unique`.\n",
      "  utils.warn_names_duplicates(\"var\")\n",
      "/Users/zaf4/dev/CCRItask/.venv/lib/python3.13/site-packages/anndata/_core/anndata.py:1758: UserWarning: Variable names are not unique. To make them unique, call `.var_names_make_unique`.\n",
      "  utils.warn_names_duplicates(\"var\")\n",
      "/Users/zaf4/dev/CCRItask/.venv/lib/python3.13/site-packages/anndata/_core/anndata.py:1758: UserWarning: Variable names are not unique. To make them unique, call `.var_names_make_unique`.\n",
      "  utils.warn_names_duplicates(\"var\")\n",
      "/Users/zaf4/dev/CCRItask/.venv/lib/python3.13/site-packages/anndata/_core/anndata.py:1758: UserWarning: Variable names are not unique. To make them unique, call `.var_names_make_unique`.\n",
      "  utils.warn_names_duplicates(\"var\")\n",
      "/Users/zaf4/dev/CCRItask/.venv/lib/python3.13/site-packages/anndata/_core/anndata.py:1758: UserWarning: Variable names are not unique. To make them unique, call `.var_names_make_unique`.\n",
      "  utils.warn_names_duplicates(\"var\")\n",
      "/Users/zaf4/dev/CCRItask/.venv/lib/python3.13/site-packages/anndata/_core/anndata.py:1758: UserWarning: Variable names are not unique. To make them unique, call `.var_names_make_unique`.\n",
      "  utils.warn_names_duplicates(\"var\")\n",
      "/Users/zaf4/dev/CCRItask/.venv/lib/python3.13/site-packages/anndata/_core/anndata.py:1758: UserWarning: Variable names are not unique. To make them unique, call `.var_names_make_unique`.\n",
      "  utils.warn_names_duplicates(\"var\")\n",
      "/Users/zaf4/dev/CCRItask/.venv/lib/python3.13/site-packages/anndata/_core/anndata.py:1758: UserWarning: Variable names are not unique. To make them unique, call `.var_names_make_unique`.\n",
      "  utils.warn_names_duplicates(\"var\")\n",
      "/Users/zaf4/dev/CCRItask/.venv/lib/python3.13/site-packages/anndata/_core/anndata.py:1758: UserWarning: Variable names are not unique. To make them unique, call `.var_names_make_unique`.\n",
      "  utils.warn_names_duplicates(\"var\")\n",
      "/Users/zaf4/dev/CCRItask/.venv/lib/python3.13/site-packages/anndata/_core/anndata.py:1758: UserWarning: Variable names are not unique. To make them unique, call `.var_names_make_unique`.\n",
      "  utils.warn_names_duplicates(\"var\")\n"
     ]
    }
   ],
   "source": [
    "adata = concat_h5_files(files, overwrite=True, log=False)"
   ]
  },
  {
   "cell_type": "code",
   "execution_count": 6,
   "id": "af7dffa4",
   "metadata": {},
   "outputs": [],
   "source": [
    "adata.write_h5ad(\"data/processed/concatenated_std.h5ad\")"
   ]
  },
  {
   "cell_type": "code",
   "execution_count": 7,
   "id": "018d8da5",
   "metadata": {},
   "outputs": [
    {
     "data": {
      "text/plain": [
       "AnnData object with n_obs × n_vars = 99073 × 22639\n",
       "    obs: 'n_genes', 'n_genes_by_counts', 'log1p_n_genes_by_counts', 'total_counts', 'log1p_total_counts', 'pct_counts_in_top_50_genes', 'pct_counts_in_top_100_genes', 'pct_counts_in_top_200_genes', 'pct_counts_in_top_500_genes', 'total_counts_mt', 'log1p_total_counts_mt', 'pct_counts_mt', 'total_counts_ribo', 'log1p_total_counts_ribo', 'pct_counts_ribo', 'sample_id', 'week', 'batch'\n",
       "    uns: 'log1p'\n",
       "    layers: 'counts'"
      ]
     },
     "execution_count": 7,
     "metadata": {},
     "output_type": "execute_result"
    }
   ],
   "source": [
    "adata"
   ]
  }
 ],
 "metadata": {
  "kernelspec": {
   "display_name": ".venv",
   "language": "python",
   "name": "python3"
  },
  "language_info": {
   "codemirror_mode": {
    "name": "ipython",
    "version": 3
   },
   "file_extension": ".py",
   "mimetype": "text/x-python",
   "name": "python",
   "nbconvert_exporter": "python",
   "pygments_lexer": "ipython3",
   "version": "3.13.1"
  }
 },
 "nbformat": 4,
 "nbformat_minor": 5
}
