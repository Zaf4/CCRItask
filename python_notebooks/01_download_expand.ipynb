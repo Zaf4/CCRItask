{
 "cells": [
  {
   "cell_type": "code",
   "execution_count": null,
   "id": "74879106",
   "metadata": {},
   "outputs": [
    {
     "data": {
      "text/html": [
       "\n",
       "            <div id=\"0CiiXJ\"></div>\n",
       "            <script type=\"text/javascript\" data-lets-plot-script=\"library\">\n",
       "                if(!window.letsPlotCallQueue) {\n",
       "                    window.letsPlotCallQueue = [];\n",
       "                }; \n",
       "                window.letsPlotCall = function(f) {\n",
       "                    window.letsPlotCallQueue.push(f);\n",
       "                };\n",
       "                (function() {\n",
       "                    var script = document.createElement(\"script\");\n",
       "                    script.type = \"text/javascript\";\n",
       "                    script.src = \"https://cdn.jsdelivr.net/gh/JetBrains/lets-plot@v4.6.2/js-package/distr/lets-plot.min.js\";\n",
       "                    script.onload = function() {\n",
       "                        window.letsPlotCall = function(f) {f();};\n",
       "                        window.letsPlotCallQueue.forEach(function(f) {f();});\n",
       "                        window.letsPlotCallQueue = [];\n",
       "                        \n",
       "                    };\n",
       "                    script.onerror = function(event) {\n",
       "                        window.letsPlotCall = function(f) {};    // noop\n",
       "                        window.letsPlotCallQueue = [];\n",
       "                        var div = document.createElement(\"div\");\n",
       "                        div.style.color = 'darkred';\n",
       "                        div.textContent = 'Error loading Lets-Plot JS';\n",
       "                        document.getElementById(\"0CiiXJ\").appendChild(div);\n",
       "                    };\n",
       "                    var e = document.getElementById(\"0CiiXJ\");\n",
       "                    e.appendChild(script);\n",
       "                })()\n",
       "            </script>\n",
       "            "
      ]
     },
     "metadata": {},
     "output_type": "display_data"
    }
   ],
   "source": [
    "import os\n",
    "import tarfile\n",
    "from pathlib import Path\n",
    "\n",
    "import requests\n",
    "from tqdm import tqdm\n"
   ]
  },
  {
   "cell_type": "markdown",
   "id": "d91c02d4",
   "metadata": {},
   "source": [
    "## 1. Downloading the Dataset and expanding the Data"
   ]
  },
  {
   "cell_type": "markdown",
   "id": "19319d1e",
   "metadata": {},
   "source": [
    "__Note:__\n",
    "Sample name includes the developmental stage in weeks and the internal ID.\n",
    "week8_001 – this sample is collected from week 8 of development and ID is 001.\n",
    "Some developmental stages have replicates."
   ]
  },
  {
   "cell_type": "markdown",
   "id": "078fcff3",
   "metadata": {},
   "source": [
    "Kameneva P, Artemov AV, Kastriti ME, Faure L et al. \n",
    "Single-cell transcriptomics of human embryos identifies multiple sympathoblast \n",
    "lineages with potential implications for neuroblastoma origin. \n",
    "Nat Genet 2021 May;53(5):694-706. "
   ]
  },
  {
   "cell_type": "markdown",
   "id": "034cb4c5",
   "metadata": {},
   "source": [
    "Main link for the dataset: \n",
    "https://www.ncbi.nlm.nih.gov/geo/query/acc.cgi?acc=GSE147821"
   ]
  },
  {
   "cell_type": "code",
   "execution_count": null,
   "id": "c3541811",
   "metadata": {},
   "outputs": [],
   "source": [
    "# direct download link\n",
    "dataset_url = \"https://www.ncbi.nlm.nih.gov/geo/download/?acc=GSE147821&format=file\""
   ]
  },
  {
   "cell_type": "code",
   "execution_count": null,
   "id": "33705675",
   "metadata": {},
   "outputs": [],
   "source": [
    "def get_dataset(url: str, name: str, folder: str = \"data/raw\") -> None:\n",
    "    \"\"\"\n",
    "    Get the Dataset from the URL.\n",
    "\n",
    "    Parameters\n",
    "    ----------\n",
    "    url : str\n",
    "        URL of the Dataset.\n",
    "    name : str\n",
    "        Name of the Dataset to save.\n",
    "    folder : str, optional\n",
    "        Folder to save the Dataset, by default \"data/raw\"\n",
    "\n",
    "    \"\"\"\n",
    "    ref_dir = Path(folder)\n",
    "    ref_dir.mkdir(exist_ok=True, parents=True)\n",
    "    response = requests.get(url, stream=True)\n",
    "    output_path = ref_dir / name\n",
    "    # Check if the file already exists\n",
    "    total_size = int(response.headers.get(\"content-length\", 0))\n",
    "    if output_path.exists() and os.stat(output_path).st_size == total_size:\n",
    "        print(f\"{output_path} already exists, skipping downloading...\")\n",
    "    else:\n",
    "        # Download the file\n",
    "        with (\n",
    "            Path.open(output_path, \"wb\") as f,\n",
    "            tqdm(  # progress bar\n",
    "                desc=\"Downloading\",\n",
    "                total=total_size,\n",
    "                unit=\"B\",\n",
    "                unit_scale=True,\n",
    "                unit_divisor=1024,\n",
    "                colour=\"green\",\n",
    "            ) as bar,\n",
    "        ):\n",
    "            for chunk in response.iter_content(chunk_size=8192):\n",
    "                if chunk:\n",
    "                    f.write(chunk)\n",
    "                    bar.update(len(chunk))\n",
    "\n",
    "    return"
   ]
  },
  {
   "cell_type": "markdown",
   "id": "ccc85467",
   "metadata": {},
   "source": [
    "### Fetch the dataset"
   ]
  },
  {
   "cell_type": "code",
   "execution_count": null,
   "id": "2da00650",
   "metadata": {},
   "outputs": [],
   "source": [
    "get_dataset(dataset_url, name=\"GSE147821_RAW.tar\")"
   ]
  },
  {
   "cell_type": "markdown",
   "id": "97637f61",
   "metadata": {},
   "source": [
    "### Extract the tar file"
   ]
  },
  {
   "cell_type": "code",
   "execution_count": null,
   "id": "4efdef99",
   "metadata": {},
   "outputs": [],
   "source": [
    "with tarfile.open(\"data/raw/GSE147821_RAW.tar\", \"r\") as tar:\n",
    "    tar.extractall(\"data/raw/GSE147821_RAW\")"
   ]
  }
 ],
 "metadata": {
  "kernelspec": {
   "display_name": ".venv",
   "language": "python",
   "name": "python3"
  },
  "language_info": {
   "codemirror_mode": {
    "name": "ipython",
    "version": 3
   },
   "file_extension": ".py",
   "mimetype": "text/x-python",
   "name": "python",
   "nbconvert_exporter": "python",
   "pygments_lexer": "ipython3",
   "version": "3.13.1"
  }
 },
 "nbformat": 4,
 "nbformat_minor": 5
}
