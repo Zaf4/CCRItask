{
 "cells": [
  {
   "cell_type": "code",
   "execution_count": null,
   "id": "13195c5c",
   "metadata": {},
   "outputs": [],
   "source": [
    "import scanpy as sc\n",
    "from pathlib import Path\n",
    "import requests\n",
    "import os\n",
    "from tqdm import tqdm\n",
    "import anndata as ad\n",
    "import tarfile\n"
   ]
  },
  {
   "cell_type": "code",
   "execution_count": null,
   "id": "3e48909b",
   "metadata": {},
   "outputs": [],
   "source": [
    "# define coloring color for colored output\n",
    "def red(text: str) -> str:\n",
    "    return f\"\\033[31m{text}\\033[0m\"\n",
    "\n",
    "\n",
    "def cyan(text: str) -> str:\n",
    "    return f\"\\033[36m{text}\\033[0m\"\n",
    "\n",
    "\n",
    "def green(text: str) -> str:\n",
    "    return f\"\\033[32m{text}\\033[0m\"\n",
    "\n",
    "\n",
    "def yellow(text: str) -> str:\n",
    "    return f\"\\033[33m{text}\\033[0m\""
   ]
  },
  {
   "cell_type": "code",
   "execution_count": null,
   "id": "4f50ff4d",
   "metadata": {},
   "outputs": [],
   "source": [
    "print(\n",
    "    red(\"Hello World!\"),\n",
    "    cyan(\"Hello World!\"),\n",
    "    green(\"Hello World!\"),\n",
    "    yellow(\"Hello World!\"),\n",
    ")"
   ]
  },
  {
   "cell_type": "markdown",
   "id": "4adc4c84",
   "metadata": {},
   "source": [
    "## 1. Downloading the Dataset and Loading the Data"
   ]
  },
  {
   "cell_type": "markdown",
   "id": "a4b5d950",
   "metadata": {},
   "source": [
    "__Note:__\n",
    "Sample name includes the developmental stage in weeks and the internal ID.\n",
    "week8_001 – this sample is collected from week 8 of development and ID is 001.\n",
    "Some developmental stages have replicates."
   ]
  },
  {
   "cell_type": "markdown",
   "id": "1b9fb761",
   "metadata": {},
   "source": [
    "Kameneva P, Artemov AV, Kastriti ME, Faure L et al. \n",
    "Single-cell transcriptomics of human embryos identifies multiple sympathoblast \n",
    "lineages with potential implications for neuroblastoma origin. \n",
    "Nat Genet 2021 May;53(5):694-706. "
   ]
  },
  {
   "cell_type": "markdown",
   "id": "6ffae0f5",
   "metadata": {},
   "source": [
    "Main link for the dataset: \n",
    "https://www.ncbi.nlm.nih.gov/geo/query/acc.cgi?acc=GSE147821"
   ]
  },
  {
   "cell_type": "code",
   "execution_count": null,
   "id": "4af669f5",
   "metadata": {},
   "outputs": [],
   "source": [
    "# direct download link\n",
    "dataset_url = \"https://www.ncbi.nlm.nih.gov/geo/download/?acc=GSE147821&format=file\""
   ]
  },
  {
   "cell_type": "code",
   "execution_count": null,
   "id": "d8dfb7d3",
   "metadata": {},
   "outputs": [],
   "source": [
    "# create the processed directory if it doesn't exist and set the path to the concatenated file\n",
    "processed_dir = Path(\"data/processed\")\n",
    "processed_dir.mkdir(exist_ok=True, parents=True)\n",
    "concat_file = processed_dir / \"concatenated.h5ad\""
   ]
  },
  {
   "cell_type": "code",
   "execution_count": null,
   "id": "6836bc2b",
   "metadata": {},
   "outputs": [],
   "source": [
    "# dictionary to map sample identifiers to sample properties\n",
    "files = {\n",
    "    \"GSM4446535\": \"week8_001\",\n",
    "    \"GSM4446536\": \"week9_063\",\n",
    "    \"GSM4446537\": \"week6_088\",\n",
    "    \"GSM4446538\": \"week14_123\",\n",
    "    \"GSM4446539\": \"week12_124\",\n",
    "    \"GSM4446540\": \"week8_125\",\n",
    "    \"GSM4446541\": \"week9_005\",\n",
    "    \"GSM4446542\": \"week11_006\",\n",
    "    \"GSM4446543\": \"week9_007\",\n",
    "    \"GSM4734601\": \"week8_016\",\n",
    "    \"GSM4734602\": \"week9_031_paraganglia\",\n",
    "    \"GSM4734603\": \"week12_035\",\n",
    "    \"GSM4734604\": \"week12_036_extraadrenal\",\n",
    "}"
   ]
  },
  {
   "cell_type": "code",
   "execution_count": null,
   "id": "e74f4407",
   "metadata": {},
   "outputs": [],
   "source": [
    "files"
   ]
  },
  {
   "cell_type": "code",
   "execution_count": null,
   "id": "0ecc9bb0",
   "metadata": {},
   "outputs": [],
   "source": [
    "def get_dataset(url: str, name: str, folder: str = \"data/raw\") -> None:\n",
    "    \"\"\"\n",
    "    Get the Dataset from the URL.\n",
    "\n",
    "    Parameters\n",
    "    ----------\n",
    "    url : str\n",
    "        URL of the Dataset.\n",
    "    name : str\n",
    "        Name of the Dataset to save.\n",
    "    folder : str, optional\n",
    "        Folder to save the Dataset, by default \"data/raw\"\n",
    "\n",
    "    \"\"\"\n",
    "    ref_dir = Path(folder)\n",
    "    ref_dir.mkdir(exist_ok=True, parents=True)\n",
    "    response = requests.get(url, stream=True)\n",
    "    output_path = ref_dir / name\n",
    "    # Check if the file already exists\n",
    "    total_size = int(response.headers.get(\"content-length\", 0))\n",
    "    if output_path.exists() and os.stat(output_path).st_size == total_size:\n",
    "        print(f\"{output_path} already exists, skipping downloading...\")\n",
    "    else:\n",
    "        # Download the file\n",
    "        with (\n",
    "            Path.open(output_path, \"wb\") as f,\n",
    "            tqdm(  # progress bar\n",
    "                desc=\"Downloading\",\n",
    "                total=total_size,\n",
    "                unit=\"B\",\n",
    "                unit_scale=True,\n",
    "                unit_divisor=1024,\n",
    "                colour=\"green\",\n",
    "            ) as bar,\n",
    "        ):\n",
    "            for chunk in response.iter_content(chunk_size=8192):\n",
    "                if chunk:\n",
    "                    f.write(chunk)\n",
    "                    bar.update(len(chunk))\n",
    "\n",
    "    return"
   ]
  },
  {
   "cell_type": "markdown",
   "id": "f76746f1",
   "metadata": {},
   "source": [
    "### Fetch the dataset"
   ]
  },
  {
   "cell_type": "code",
   "execution_count": null,
   "id": "090e7e4b",
   "metadata": {},
   "outputs": [],
   "source": [
    "get_dataset(dataset_url, name=\"GSE147821_RAW.tar\")"
   ]
  },
  {
   "cell_type": "markdown",
   "id": "d40d59f8",
   "metadata": {},
   "source": [
    "### Extract the tar file"
   ]
  },
  {
   "cell_type": "code",
   "execution_count": null,
   "id": "0171ae37",
   "metadata": {},
   "outputs": [],
   "source": [
    "with tarfile.open(\"data/raw/GSE147821_RAW.tar\", \"r\") as tar:\n",
    "    tar.extractall(\"data/raw/GSE147821_RAW\")"
   ]
  },
  {
   "cell_type": "code",
   "execution_count": null,
   "id": "44f6d462",
   "metadata": {},
   "outputs": [],
   "source": [
    "os.listdir(\"data/raw/GSE147821_RAW\")"
   ]
  },
  {
   "cell_type": "code",
   "execution_count": null,
   "id": "57e21f74",
   "metadata": {},
   "outputs": [],
   "source": [
    "def concat_h5_files(\n",
    "    files: dict, raw_dir=\"data/raw/GSE147821_RAW\", out_dir=\"data/processed\"\n",
    "):\n",
    "    concat_file = Path(out_dir) / \"concatenated.h5ad\"\n",
    "    if not Path(concat_file).exists():\n",
    "        samples = []\n",
    "        for key in files:\n",
    "            # find the file\n",
    "            h5_file = [key for key in os.listdir(raw_dir) if key.startswith(key)][0]\n",
    "            # find the matching info\n",
    "            info = files[key]\n",
    "            # extract the information from the file name\n",
    "            week_str = info.split(\"_\")[0]  # gets the week as string\n",
    "            week = week_str.split(\"week\")[1]  # converts to integer\n",
    "            sample_name = info.split(\"_\")[1]  # gets the sample name\n",
    "\n",
    "            # assign the full path\n",
    "            full_path = Path(raw_dir) / h5_file\n",
    "\n",
    "            # read the file\n",
    "            sample = sc.read_10x_h5(full_path)\n",
    "            sample.var_names_make_unique()\n",
    "            sample.obs_names = [f\"{info}_{cell}\" for cell in sample.obs_names]\n",
    "\n",
    "            # Add metadata\n",
    "            sample.obs[\"sample_id\"] = sample_name\n",
    "            sample.obs[\"week\"] = week\n",
    "            sample.obs[\"filename\"] = h5_file\n",
    "\n",
    "            # append to the list\n",
    "            samples.append(sample)\n",
    "        # concatenate the samples\n",
    "        adt = ad.concat(\n",
    "            samples,\n",
    "            join=\"outer\",\n",
    "            label=\"sample\",\n",
    "            keys=[sample.obs[\"sample_id\"][0] for sample in samples],\n",
    "        )\n",
    "        # save the file\n",
    "        adt.write_h5ad(concat_file)\n",
    "    else:\n",
    "        adt = ad.read_h5ad(concat_file)\n",
    "\n",
    "    return adt"
   ]
  },
  {
   "cell_type": "code",
   "execution_count": null,
   "id": "3c7d917e",
   "metadata": {},
   "outputs": [],
   "source": [
    "adt = concat_h5_files(files=files)"
   ]
  },
  {
   "cell_type": "code",
   "execution_count": null,
   "id": "22c922ea",
   "metadata": {},
   "outputs": [],
   "source": [
    "adt.X.max()"
   ]
  },
  {
   "cell_type": "markdown",
   "id": "74ae2069",
   "metadata": {},
   "source": [
    "## 2. Performing data normalization (consider cell cycle correction) and quality control,data cleaning."
   ]
  },
  {
   "cell_type": "markdown",
   "id": "93232a68",
   "metadata": {},
   "source": [
    "### Quality control"
   ]
  },
  {
   "cell_type": "code",
   "execution_count": null,
   "id": "c06581ea",
   "metadata": {},
   "outputs": [],
   "source": [
    "# mitochondrial genes\n",
    "adt.var[\"mt\"] = adt.var_names.str.startswith(\"MT-\")\n",
    "# ribosomal genes\n",
    "adt.var[\"ribo\"] = adt.var_names.str.startswith((\"RPS\", \"RPL\"))\n",
    "# hemoglobin genes\n",
    "adt.var[\"hb\"] = adt.var_names.str.contains(\"^HB[^(P)]\")\n",
    "\n",
    "# \n",
    "sc.pp.calculate_qc_metrics(adt, qc_vars=[\"mt\", \"ribo\", \"hb\"], inplace=True, log1p=True)"
   ]
  },
  {
   "cell_type": "code",
   "execution_count": null,
   "id": "42ed7bca",
   "metadata": {},
   "outputs": [],
   "source": [
    "adt"
   ]
  },
  {
   "cell_type": "code",
   "execution_count": null,
   "id": "18838b7e",
   "metadata": {},
   "outputs": [],
   "source": [
    "# Plot before filtering\n",
    "sc.pl.violin(\n",
    "    adt,\n",
    "    [\"n_genes_by_counts\", \"total_counts\", \"pct_counts_mt\"],\n",
    "    jitter=0.4,\n",
    "    multi_panel=True,\n",
    ")\n"
   ]
  },
  {
   "cell_type": "markdown",
   "id": "45a5c238",
   "metadata": {},
   "source": [
    "## 3. Generate the UMAP and perform cluster annotation."
   ]
  },
  {
   "cell_type": "markdown",
   "id": "62d8aa95",
   "metadata": {},
   "source": [
    "Take a note of the clusters on Figure 1b https://www.nature.com/articles/s41588-\n",
    "021-00818-x for marker genes."
   ]
  },
  {
   "cell_type": "markdown",
   "id": "6c34fcb1",
   "metadata": {},
   "source": [
    "## 4. Visualize the data on the dot plot showing the 5 top differentially expressed genes per cluster"
   ]
  },
  {
   "cell_type": "markdown",
   "id": "c8507951",
   "metadata": {},
   "source": [
    "## 5. Sub-select adrenal medulla clusters (Schwann cell precursors (SCPs),Chromaffin cells, Sympathoblasts) and re-cluster them to improve the resolution of transitions."
   ]
  },
  {
   "cell_type": "markdown",
   "id": "6b898d43",
   "metadata": {},
   "source": [
    "Similar to re-clustering on Figure 2 https://www.nature.com/articles/s41588-021-\n",
    "00818-x. Note that not all datasets may be included in the re-clustering. \n",
    "If you choose to do so, explain why that may be necessary."
   ]
  },
  {
   "cell_type": "markdown",
   "id": "88f931e7",
   "metadata": {},
   "source": [
    "For the last task, you can choose between two alternatives \n",
    " \n",
    "6a. Perform the trajectory analysis between SCPs and chromaffin cells, SCPs and \n",
    "sympathoblasts, and between chromaffin cells and sympathoblasts.  \n",
    "Plot the important gene changes along the trajectories on heatmaps. \n",
    "You can use any trajectory analysis tool. Please explain your choice. \n",
    " \n",
    "6b. Using the SCENIC tool, analyse the regulons in SCPs, chromaffin cells, and \n",
    "sympathoblasts.  \n",
    "Visualize important regulons whose activity spans the transitions between the \n",
    "clusters. Compare the regulon's expression to the expression of the \n",
    "corresponding transcription factors."
   ]
  },
  {
   "cell_type": "markdown",
   "id": "e81c897e",
   "metadata": {},
   "source": [
    "### 6a. Perform the trajectory analysis between SCPs and chromaffin cells, SCPs and sympathoblasts, and between chromaffin cells and sympathoblasts. Plot the important gene changes along the trajectories on heatmaps. You can use any trajectory analysis tool. Please explain your choice."
   ]
  },
  {
   "cell_type": "markdown",
   "id": "1f380d92",
   "metadata": {},
   "source": [
    "## 7. Generate the report:\n",
    "7a. Please provide annotated code, documentation, results, and plots organized\n",
    "in a PDF file.  \n",
    "7b. Please provide short explanations of why you chose specific methods of\n",
    "analysis.  \n",
    "7c. Please provide a short, plausible interpretation of the results of task 6.  \n",
    "7d. Please provide a small abstract of the overall results of the analysis (max 150\n",
    "words).  "
   ]
  }
 ],
 "metadata": {
  "kernelspec": {
   "display_name": ".venv",
   "language": "python",
   "name": "python3"
  },
  "language_info": {
   "codemirror_mode": {
    "name": "ipython",
    "version": 3
   },
   "file_extension": ".py",
   "mimetype": "text/x-python",
   "name": "python",
   "nbconvert_exporter": "python",
   "pygments_lexer": "ipython3",
   "version": "3.13.1"
  }
 },
 "nbformat": 4,
 "nbformat_minor": 5
}
