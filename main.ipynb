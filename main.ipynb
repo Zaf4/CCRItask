{
 "cells": [
  {
   "cell_type": "code",
   "execution_count": null,
   "id": "13195c5c",
   "metadata": {},
   "outputs": [],
   "source": [
    "import scanpy as sc\n",
    "from pathlib import Path\n",
    "import requests\n",
    "import os\n",
    "from tqdm import tqdm\n",
    "import tarfile\n"
   ]
  },
  {
   "cell_type": "code",
   "execution_count": 19,
   "id": "3e48909b",
   "metadata": {},
   "outputs": [],
   "source": [
    "# define coloring color for colored output\n",
    "def red(text: str) -> str:\n",
    "    return f\"\\033[31m{text}\\033[0m\"\n",
    "\n",
    "def cyan(text: str) -> str:\n",
    "    return f\"\\033[36m{text}\\033[0m\"\n",
    "\n",
    "def green(text: str) -> str:\n",
    "    return f\"\\033[32m{text}\\033[0m\"\n",
    "\n",
    "def yellow(text: str) -> str:\n",
    "    return f\"\\033[33m{text}\\033[0m\""
   ]
  },
  {
   "cell_type": "code",
   "execution_count": 20,
   "id": "4f50ff4d",
   "metadata": {},
   "outputs": [
    {
     "name": "stdout",
     "output_type": "stream",
     "text": [
      "\u001b[31mHello World!\u001b[0m \u001b[36mHello World!\u001b[0m \u001b[32mHello World!\u001b[0m \u001b[33mHello World!\u001b[0m\n"
     ]
    }
   ],
   "source": [
    "print(red(\"Hello World!\"), cyan(\"Hello World!\"), green(\"Hello World!\"), yellow(\"Hello World!\"))"
   ]
  },
  {
   "cell_type": "markdown",
   "id": "4adc4c84",
   "metadata": {},
   "source": [
    "## 1. Downloading the Dataset"
   ]
  },
  {
   "cell_type": "markdown",
   "id": "a4b5d950",
   "metadata": {},
   "source": [
    "__Note:__\n",
    "Sample name includes the developmental stage in weeks and the internal ID.\n",
    "week8_001 – this sample is collected from week 8 of development and ID is 001.\n",
    "Some developmental stages have replicates."
   ]
  },
  {
   "cell_type": "markdown",
   "id": "1b9fb761",
   "metadata": {},
   "source": [
    "Kameneva P, Artemov AV, Kastriti ME, Faure L et al. \n",
    "Single-cell transcriptomics of human embryos identifies multiple sympathoblast \n",
    "lineages with potential implications for neuroblastoma origin. \n",
    "Nat Genet 2021 May;53(5):694-706. "
   ]
  },
  {
   "cell_type": "markdown",
   "id": "6ffae0f5",
   "metadata": {},
   "source": [
    "Main link for the dataset: \n",
    "https://www.ncbi.nlm.nih.gov/geo/query/acc.cgi?acc=GSE147821"
   ]
  },
  {
   "cell_type": "code",
   "execution_count": 21,
   "id": "4af669f5",
   "metadata": {},
   "outputs": [],
   "source": [
    "# direct download link\n",
    "dataset_url = \"https://www.ncbi.nlm.nih.gov/geo/download/?acc=GSE147821&format=file\""
   ]
  },
  {
   "cell_type": "code",
   "execution_count": 27,
   "id": "0ecc9bb0",
   "metadata": {},
   "outputs": [],
   "source": [
    "def get_dataset(url: str, name:str,folder:str=\"data/raw\") -> None:\n",
    "    \"\"\"Get the Dataset from the URL.\n",
    "    \n",
    "    Parameters\n",
    "    ----------\n",
    "    url : str\n",
    "        URL of the Dataset.\n",
    "\n",
    "    \n",
    "    \"\"\"\n",
    "    ref_dir = Path(folder)\n",
    "    ref_dir.mkdir(exist_ok=True,parents=True)\n",
    "    response = requests.get(url, stream=True)\n",
    "    output_path = ref_dir / name\n",
    "    # Check if the file already exists\n",
    "    total_size = int(response.headers.get(\"content-length\", 0))\n",
    "    if output_path.exists() and os.stat(output_path).st_size == total_size:\n",
    "        print(f\"{output_path} already exists, skipping downloading...\")\n",
    "    else:\n",
    "        # Download the file\n",
    "        with (\n",
    "            Path.open(output_path, \"wb\") as f,\n",
    "            tqdm(  # progress bar\n",
    "                desc=\"Downloading\",\n",
    "                total=total_size,\n",
    "                unit=\"B\",\n",
    "                unit_scale=True,\n",
    "                unit_divisor=1024,\n",
    "                colour=\"green\",\n",
    "            ) as bar,\n",
    "        ):\n",
    "            for chunk in response.iter_content(chunk_size=8192):\n",
    "                if chunk:\n",
    "                    f.write(chunk)\n",
    "                    bar.update(len(chunk))\n",
    "    \n",
    "    return"
   ]
  },
  {
   "cell_type": "code",
   "execution_count": null,
   "id": "090e7e4b",
   "metadata": {},
   "outputs": [
    {
     "name": "stderr",
     "output_type": "stream",
     "text": [
      "Downloading:  68%|\u001b[32m██████▊   \u001b[0m| 1.40G/2.06G [37:50<19:10, 623kB/s]  "
     ]
    }
   ],
   "source": [
    "get_dataset(dataset_url, name=\"GSE147821_RAW.tar\")"
   ]
  },
  {
   "cell_type": "markdown",
   "id": "d40d59f8",
   "metadata": {},
   "source": []
  },
  {
   "cell_type": "code",
   "execution_count": null,
   "id": "0171ae37",
   "metadata": {},
   "outputs": [],
   "source": [
    "with tarfile.open(\"GSE147821_RAW.tar\", \"r\") as tar:\n",
    "    tar.extractall(\".data/raw\")"
   ]
  },
  {
   "cell_type": "markdown",
   "id": "74ae2069",
   "metadata": {},
   "source": [
    "## 2. Performing data normalization (consider cell cycle correction) and quality control,data cleaning."
   ]
  },
  {
   "cell_type": "markdown",
   "id": "45a5c238",
   "metadata": {},
   "source": [
    "## 3. Generate the UMAP and perform cluster annotation."
   ]
  },
  {
   "cell_type": "markdown",
   "id": "62d8aa95",
   "metadata": {},
   "source": [
    "Take a note of the clusters on Figure 1b https://www.nature.com/articles/s41588-\n",
    "021-00818-x for marker genes."
   ]
  },
  {
   "cell_type": "markdown",
   "id": "6c34fcb1",
   "metadata": {},
   "source": [
    "## 4. Visualize the data on the dot plot showing the 5 top differentially expressed genes per cluster"
   ]
  },
  {
   "cell_type": "markdown",
   "id": "c8507951",
   "metadata": {},
   "source": [
    "## 5. Sub-select adrenal medulla clusters (Schwann cell precursors (SCPs),Chromaffin cells, Sympathoblasts) and re-cluster them to improve the resolution of transitions."
   ]
  },
  {
   "cell_type": "markdown",
   "id": "6b898d43",
   "metadata": {},
   "source": [
    "Similar to re-clustering on Figure 2 https://www.nature.com/articles/s41588-021-\n",
    "00818-x. Note that not all datasets may be included in the re-clustering. \n",
    "If you choose to do so, explain why that may be necessary."
   ]
  },
  {
   "cell_type": "markdown",
   "id": "88f931e7",
   "metadata": {},
   "source": [
    "For the last task, you can choose between two alternatives \n",
    " \n",
    "6a. Perform the trajectory analysis between SCPs and chromaffin cells, SCPs and \n",
    "sympathoblasts, and between chromaffin cells and sympathoblasts.  \n",
    "Plot the important gene changes along the trajectories on heatmaps. \n",
    "You can use any trajectory analysis tool. Please explain your choice. \n",
    " \n",
    "6b. Using the SCENIC tool, analyse the regulons in SCPs, chromaffin cells, and \n",
    "sympathoblasts.  \n",
    "Visualize important regulons whose activity spans the transitions between the \n",
    "clusters. Compare the regulon's expression to the expression of the \n",
    "corresponding transcription factors."
   ]
  },
  {
   "cell_type": "markdown",
   "id": "e81c897e",
   "metadata": {},
   "source": [
    "### 6a. Perform the trajectory analysis between SCPs and chromaffin cells, SCPs and sympathoblasts, and between chromaffin cells and sympathoblasts. Plot the important gene changes along the trajectories on heatmaps. You can use any trajectory analysis tool. Please explain your choice."
   ]
  },
  {
   "cell_type": "markdown",
   "id": "1f380d92",
   "metadata": {},
   "source": [
    "## 7. Generate the report:\n",
    "7a. Please provide annotated code, documentation, results, and plots organized\n",
    "in a PDF file.  \n",
    "7b. Please provide short explanations of why you chose specific methods of\n",
    "analysis.  \n",
    "7c. Please provide a short, plausible interpretation of the results of task 6.  \n",
    "7d. Please provide a small abstract of the overall results of the analysis (max 150\n",
    "words).  "
   ]
  }
 ],
 "metadata": {
  "kernelspec": {
   "display_name": ".venv",
   "language": "python",
   "name": "python3"
  },
  "language_info": {
   "codemirror_mode": {
    "name": "ipython",
    "version": 3
   },
   "file_extension": ".py",
   "mimetype": "text/x-python",
   "name": "python",
   "nbconvert_exporter": "python",
   "pygments_lexer": "ipython3",
   "version": "3.10.16"
  }
 },
 "nbformat": 4,
 "nbformat_minor": 5
}
