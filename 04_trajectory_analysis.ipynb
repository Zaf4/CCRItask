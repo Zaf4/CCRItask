{
 "cells": [
  {
   "cell_type": "code",
   "execution_count": 5,
   "id": "c73225af",
   "metadata": {
    "vscode": {
     "languageId": "r"
    }
   },
   "outputs": [
    {
     "name": "stderr",
     "output_type": "stream",
     "text": [
      "'getOption(\"repos\")' replaces Bioconductor standard repositories, see\n",
      "'help(\"repositories\", package = \"BiocManager\")' for details.\n",
      "Replacement repositories:\n",
      "    CRAN: https://cran.r-project.org\n",
      "\n",
      "Bioconductor version 3.21 (BiocManager 1.30.25), R 4.5.0 (2025-04-11)\n",
      "\n",
      "Installing package(s) 'BiocVersion'\n",
      "\n"
     ]
    },
    {
     "name": "stdout",
     "output_type": "stream",
     "text": [
      "\n",
      "The downloaded binary packages are in\n",
      "\t/var/folders/wl/jrkngsm57b944tj7rtjg12000000gn/T//RtmpW03PRc/downloaded_packages\n"
     ]
    },
    {
     "name": "stderr",
     "output_type": "stream",
     "text": [
      "Old packages: 'SeuratObject', 'cli', 'lattice', 'mgcv'\n",
      "\n"
     ]
    }
   ],
   "source": [
    "if (!requireNamespace(\"BiocManager\", quietly = TRUE))\n",
    "install.packages(\"BiocManager\")\n",
    "BiocManager::install()"
   ]
  },
  {
   "cell_type": "code",
   "execution_count": 6,
   "id": "7635420e",
   "metadata": {
    "vscode": {
     "languageId": "r"
    }
   },
   "outputs": [
    {
     "name": "stderr",
     "output_type": "stream",
     "text": [
      "'getOption(\"repos\")' replaces Bioconductor standard repositories, see\n",
      "'help(\"repositories\", package = \"BiocManager\")' for details.\n",
      "Replacement repositories:\n",
      "    CRAN: https://cran.r-project.org\n",
      "\n",
      "Bioconductor version 3.21 (BiocManager 1.30.25), R 4.5.0 (2025-04-11)\n",
      "\n",
      "Installing package(s) 'BiocGenerics', 'DelayedArray', 'DelayedMatrixStats',\n",
      "  'limma', 'lme4', 'S4Vectors', 'SingleCellExperiment', 'SummarizedExperiment',\n",
      "  'batchelor', 'HDF5Array', 'terra', 'ggrastr'\n",
      "\n",
      "also installing the dependencies 'formatR', 'rbibutils', 'lambda.r', 'futile.options', 'XVector', 'Rdpack', 'UCSC.utils', 'GenomeInfoDbData', 'assorthead', 'rsvd', 'futile.logger', 'snow', 'rhdf5filters', 'Rhdf5lib', 'beeswarm', 'vipor', 'MatrixGenerics', 'IRanges', 'S4Arrays', 'SparseArray', 'sparseMatrixStats', 'statmod', 'minqa', 'nloptr', 'reformulas', 'GenomicRanges', 'Biobase', 'GenomeInfoDb', 'BiocNeighbors', 'BiocSingular', 'BiocParallel', 'scuttle', 'ResidualMatrix', 'ScaledMatrix', 'beachmat', 'h5mread', 'rhdf5', 'Cairo', 'ggbeeswarm'\n",
      "\n",
      "\n"
     ]
    },
    {
     "name": "stdout",
     "output_type": "stream",
     "text": [
      "\n",
      "  There is a binary version available but the source version is later:\n",
      "         binary source needs_compilation\n",
      "S4Arrays  1.7.2  1.8.0              TRUE\n",
      "\n",
      "\n",
      "The downloaded binary packages are in\n",
      "\t/var/folders/wl/jrkngsm57b944tj7rtjg12000000gn/T//RtmpW03PRc/downloaded_packages\n"
     ]
    },
    {
     "name": "stderr",
     "output_type": "stream",
     "text": [
      "installing the source packages 'GenomeInfoDbData', 'S4Arrays'\n",
      "\n",
      "\n",
      "Old packages: 'SeuratObject', 'cli', 'lattice', 'mgcv'\n",
      "\n"
     ]
    }
   ],
   "source": [
    "BiocManager::install(c('BiocGenerics', 'DelayedArray', 'DelayedMatrixStats',\n",
    "                       'limma', 'lme4', 'S4Vectors', 'SingleCellExperiment',\n",
    "                       'SummarizedExperiment', 'batchelor', 'HDF5Array',\n",
    "                       'terra', 'ggrastr'))"
   ]
  },
  {
   "cell_type": "code",
   "execution_count": 7,
   "id": "c11f4976",
   "metadata": {
    "vscode": {
     "languageId": "r"
    }
   },
   "outputs": [
    {
     "name": "stdout",
     "output_type": "stream",
     "text": [
      "\n",
      "The downloaded binary packages are in\n",
      "\t/var/folders/wl/jrkngsm57b944tj7rtjg12000000gn/T//RtmpW03PRc/downloaded_packages\n"
     ]
    },
    {
     "name": "stderr",
     "output_type": "stream",
     "text": [
      "Using GitHub PAT from the git credential store.\n",
      "\n",
      "Downloading GitHub repo cole-trapnell-lab/monocle3@HEAD\n",
      "\n"
     ]
    },
    {
     "name": "stdout",
     "output_type": "stream",
     "text": [
      "cli        (3.6.4 -> 3.6.5 ) [CRAN]\n",
      "DBI        (NA    -> 1.2.3 ) [CRAN]\n",
      "proxy      (NA    -> 0.4-27) [CRAN]\n",
      "wk         (NA    -> 0.9.4 ) [CRAN]\n",
      "e1071      (NA    -> 1.7-16) [CRAN]\n",
      "units      (NA    -> 0.8-7 ) [CRAN]\n",
      "s2         (NA    -> 1.1.7 ) [CRAN]\n",
      "classInt   (NA    -> 0.4-11) [CRAN]\n",
      "warp       (NA    -> 0.2.1 ) [CRAN]\n",
      "biglm      (NA    -> 0.9-3 ) [CRAN]\n",
      "sf         (NA    -> 1.0-20) [CRAN]\n",
      "spData     (NA    -> 2.3.4 ) [CRAN]\n",
      "slider     (NA    -> 0.3.2 ) [CRAN]\n",
      "furrr      (NA    -> 0.3.1 ) [CRAN]\n",
      "viridis    (NA    -> 0.6.5 ) [CRAN]\n",
      "speedglm   (NA    -> 0.3-5 ) [CRAN]\n",
      "spdep      (NA    -> 1.3-10) [CRAN]\n",
      "slam       (NA    -> 0.1-55) [CRAN]\n",
      "rsample    (NA    -> 1.3.0 ) [CRAN]\n",
      "pscl       (NA    -> 1.5.9 ) [CRAN]\n",
      "pheatmap   (NA    -> 1.0.12) [CRAN]\n",
      "pbmcapply  (NA    -> 1.5.1 ) [CRAN]\n",
      "grr        (NA    -> 0.9.5 ) [CRAN]\n",
      "assertthat (NA    -> 0.2.1 ) [CRAN]\n"
     ]
    },
    {
     "name": "stderr",
     "output_type": "stream",
     "text": [
      "Installing 24 packages: cli, DBI, proxy, wk, e1071, units, s2, classInt, warp, biglm, sf, spData, slider, furrr, viridis, speedglm, spdep, slam, rsample, pscl, pheatmap, pbmcapply, grr, assertthat\n",
      "\n"
     ]
    },
    {
     "name": "stdout",
     "output_type": "stream",
     "text": [
      "\n",
      "The downloaded binary packages are in\n",
      "\t/var/folders/wl/jrkngsm57b944tj7rtjg12000000gn/T//RtmpW03PRc/downloaded_packages\n",
      "\u001b[36m--\u001b[39m \u001b[36mR CMD build\u001b[39m \u001b[36m-----------------------------------------------------------------\u001b[39m\n",
      "* checking for file '/private/var/folders/wl/jrkngsm57b944tj7rtjg12000000gn/T/RtmpW03PRc/remotes27161ca8bec7/cole-trapnell-lab-monocle3-98402ed/DESCRIPTION' ... OK\n",
      "* preparing 'monocle3':\n",
      "* checking DESCRIPTION meta-information ... OK\n",
      "* cleaning src\n",
      "* checking for LF line-endings in source and make files and shell scripts\n",
      "* checking for empty or unneeded directories\n",
      "Omitted 'LazyData' from DESCRIPTION\n",
      "* building 'monocle3_1.3.7.tar.gz'\n",
      "\n"
     ]
    }
   ],
   "source": [
    "install.packages(\"devtools\")\n",
    "devtools::install_github('cole-trapnell-lab/monocle3')"
   ]
  },
  {
   "cell_type": "code",
   "execution_count": 11,
   "id": "04f4cca3",
   "metadata": {
    "vscode": {
     "languageId": "r"
    }
   },
   "outputs": [
    {
     "name": "stderr",
     "output_type": "stream",
     "text": [
      "Using GitHub PAT from the git credential store.\n",
      "\n",
      "Downloading GitHub repo satijalab/seurat-wrappers@HEAD\n",
      "\n"
     ]
    },
    {
     "name": "stdout",
     "output_type": "stream",
     "text": [
      "SeuratObject (5.0.2 -> 5.1.0) [CRAN]\n"
     ]
    },
    {
     "name": "stderr",
     "output_type": "stream",
     "text": [
      "Installing 1 packages: SeuratObject\n",
      "\n"
     ]
    },
    {
     "name": "stdout",
     "output_type": "stream",
     "text": [
      "\n",
      "The downloaded binary packages are in\n",
      "\t/var/folders/wl/jrkngsm57b944tj7rtjg12000000gn/T//RtmpW03PRc/downloaded_packages\n",
      "\u001b[36m--\u001b[39m \u001b[36mR CMD build\u001b[39m \u001b[36m-----------------------------------------------------------------\u001b[39m\n",
      "* checking for file '/private/var/folders/wl/jrkngsm57b944tj7rtjg12000000gn/T/RtmpW03PRc/remotes271685e4fcd/satijalab-seurat-wrappers-a1eb0d8/DESCRIPTION' ... OK\n",
      "* preparing 'SeuratWrappers':\n",
      "* checking DESCRIPTION meta-information ... OK\n",
      "* checking for LF line-endings in source and make files and shell scripts\n",
      "* checking for empty or unneeded directories\n",
      "Omitted 'LazyData' from DESCRIPTION\n",
      "* building 'SeuratWrappers_0.4.0.tar.gz'\n",
      "\n"
     ]
    }
   ],
   "source": [
    "if (!requireNamespace(\"SeuratWrappers\", quietly = TRUE)) {\n",
    "  remotes::install_github(\"satijalab/seurat-wrappers\")\n",
    "}\n",
    "library(SeuratWrappers)"
   ]
  },
  {
   "cell_type": "code",
   "execution_count": 8,
   "id": "10c31e0d",
   "metadata": {
    "vscode": {
     "languageId": "r"
    }
   },
   "outputs": [
    {
     "name": "stderr",
     "output_type": "stream",
     "text": [
      "Loading required package: Biobase\n",
      "\n",
      "Loading required package: BiocGenerics\n",
      "\n",
      "Loading required package: generics\n",
      "\n"
     ]
    },
    {
     "name": "stderr",
     "output_type": "stream",
     "text": [
      "\n",
      "Attaching package: 'generics'\n",
      "\n",
      "\n",
      "The following objects are masked from 'package:base':\n",
      "\n",
      "    as.difftime, as.factor, as.ordered, intersect, is.element, setdiff,\n",
      "    setequal, union\n",
      "\n",
      "\n",
      "\n",
      "Attaching package: 'BiocGenerics'\n",
      "\n",
      "\n",
      "The following objects are masked from 'package:stats':\n",
      "\n",
      "    IQR, mad, sd, var, xtabs\n",
      "\n",
      "\n",
      "The following objects are masked from 'package:base':\n",
      "\n",
      "    Filter, Find, Map, Position, Reduce, anyDuplicated, aperm, append,\n",
      "    as.data.frame, basename, cbind, colnames, dirname, do.call,\n",
      "    duplicated, eval, evalq, get, grep, grepl, is.unsorted, lapply,\n",
      "    mapply, match, mget, order, paste, pmax, pmax.int, pmin, pmin.int,\n",
      "    rank, rbind, rownames, sapply, saveRDS, table, tapply, unique,\n",
      "    unsplit, which.max, which.min\n",
      "\n",
      "\n",
      "Welcome to Bioconductor\n",
      "\n",
      "    Vignettes contain introductory material; view with\n",
      "    'browseVignettes()'. To cite Bioconductor, see\n",
      "    'citation(\"Biobase\")', and for packages 'citation(\"pkgname\")'.\n",
      "\n",
      "\n",
      "Loading required package: SingleCellExperiment\n",
      "\n",
      "Loading required package: SummarizedExperiment\n",
      "\n",
      "Loading required package: MatrixGenerics\n",
      "\n",
      "Loading required package: matrixStats\n",
      "\n",
      "\n",
      "Attaching package: 'matrixStats'\n",
      "\n",
      "\n",
      "The following objects are masked from 'package:Biobase':\n",
      "\n",
      "    anyMissing, rowMedians\n",
      "\n",
      "\n",
      "\n",
      "Attaching package: 'MatrixGenerics'\n",
      "\n",
      "\n",
      "The following objects are masked from 'package:matrixStats':\n",
      "\n",
      "    colAlls, colAnyNAs, colAnys, colAvgsPerRowSet, colCollapse,\n",
      "    colCounts, colCummaxs, colCummins, colCumprods, colCumsums,\n",
      "    colDiffs, colIQRDiffs, colIQRs, colLogSumExps, colMadDiffs,\n",
      "    colMads, colMaxs, colMeans2, colMedians, colMins, colOrderStats,\n",
      "    colProds, colQuantiles, colRanges, colRanks, colSdDiffs, colSds,\n",
      "    colSums2, colTabulates, colVarDiffs, colVars, colWeightedMads,\n",
      "    colWeightedMeans, colWeightedMedians, colWeightedSds,\n",
      "    colWeightedVars, rowAlls, rowAnyNAs, rowAnys, rowAvgsPerColSet,\n",
      "    rowCollapse, rowCounts, rowCummaxs, rowCummins, rowCumprods,\n",
      "    rowCumsums, rowDiffs, rowIQRDiffs, rowIQRs, rowLogSumExps,\n",
      "    rowMadDiffs, rowMads, rowMaxs, rowMeans2, rowMedians, rowMins,\n",
      "    rowOrderStats, rowProds, rowQuantiles, rowRanges, rowRanks,\n",
      "    rowSdDiffs, rowSds, rowSums2, rowTabulates, rowVarDiffs, rowVars,\n",
      "    rowWeightedMads, rowWeightedMeans, rowWeightedMedians,\n",
      "    rowWeightedSds, rowWeightedVars\n",
      "\n",
      "\n",
      "The following object is masked from 'package:Biobase':\n",
      "\n",
      "    rowMedians\n",
      "\n",
      "\n",
      "Loading required package: GenomicRanges\n",
      "\n",
      "Loading required package: stats4\n",
      "\n",
      "Loading required package: S4Vectors\n",
      "\n",
      "\n",
      "Attaching package: 'S4Vectors'\n",
      "\n",
      "\n",
      "The following object is masked from 'package:utils':\n",
      "\n",
      "    findMatches\n",
      "\n",
      "\n",
      "The following objects are masked from 'package:base':\n",
      "\n",
      "    I, expand.grid, unname\n",
      "\n",
      "\n",
      "Loading required package: IRanges\n",
      "\n",
      "\n",
      "Attaching package: 'IRanges'\n",
      "\n",
      "\n",
      "The following object is masked from 'package:sp':\n",
      "\n",
      "    %over%\n",
      "\n",
      "\n",
      "Loading required package: GenomeInfoDb\n",
      "\n",
      "\n",
      "Attaching package: 'SummarizedExperiment'\n",
      "\n",
      "\n",
      "The following object is masked from 'package:Seurat':\n",
      "\n",
      "    Assays\n",
      "\n",
      "\n",
      "The following object is masked from 'package:SeuratObject':\n",
      "\n",
      "    Assays\n",
      "\n",
      "\n",
      "\n",
      "Attaching package: 'monocle3'\n",
      "\n",
      "\n",
      "The following objects are masked from 'package:Biobase':\n",
      "\n",
      "    exprs, fData, fData<-, pData, pData<-\n",
      "\n",
      "\n"
     ]
    }
   ],
   "source": [
    "library(Seurat)\n",
    "library(ggplot2)\n",
    "library(monocle3)\n",
    "    "
   ]
  },
  {
   "cell_type": "code",
   "execution_count": 9,
   "id": "1cdd596e",
   "metadata": {
    "vscode": {
     "languageId": "r"
    }
   },
   "outputs": [],
   "source": [
    "seu <- readRDS(\"data/processed/AMC_subset_annotated.rds\")"
   ]
  },
  {
   "cell_type": "code",
   "execution_count": 16,
   "id": "32999186",
   "metadata": {
    "vscode": {
     "languageId": "r"
    }
   },
   "outputs": [
    {
     "data": {
      "text/html": [
       "<style>\n",
       ".list-inline {list-style: none; margin:0; padding: 0}\n",
       ".list-inline>li {display: inline-block}\n",
       ".list-inline>li:not(:last-child)::after {content: \"\\00b7\"; padding: 0 .5ex}\n",
       "</style>\n",
       "<ol class=list-inline><li>Chromaffin cells</li><li>Sympathoblasts</li><li>Prolifertating sympathoblasts</li><li>SCPs</li></ol>\n",
       "\n",
       "<details>\n",
       "\t<summary style=display:list-item;cursor:pointer>\n",
       "\t\t<strong>Levels</strong>:\n",
       "\t</summary>\n",
       "\t<style>\n",
       "\t.list-inline {list-style: none; margin:0; padding: 0}\n",
       "\t.list-inline>li {display: inline-block}\n",
       "\t.list-inline>li:not(:last-child)::after {content: \"\\00b7\"; padding: 0 .5ex}\n",
       "\t</style>\n",
       "\t<ol class=list-inline><li>'Prolifertating sympathoblasts'</li><li>'Sympathoblasts'</li><li>'SCPs'</li><li>'Chromaffin cells'</li></ol>\n",
       "</details>"
      ],
      "text/latex": [
       "\\begin{enumerate*}\n",
       "\\item Chromaffin cells\n",
       "\\item Sympathoblasts\n",
       "\\item Prolifertating sympathoblasts\n",
       "\\item SCPs\n",
       "\\end{enumerate*}\n",
       "\n",
       "\\emph{Levels}: \\begin{enumerate*}\n",
       "\\item 'Prolifertating sympathoblasts'\n",
       "\\item 'Sympathoblasts'\n",
       "\\item 'SCPs'\n",
       "\\item 'Chromaffin cells'\n",
       "\\end{enumerate*}\n"
      ],
      "text/markdown": [
       "1. Chromaffin cells\n",
       "2. Sympathoblasts\n",
       "3. Prolifertating sympathoblasts\n",
       "4. SCPs\n",
       "\n",
       "\n",
       "\n",
       "**Levels**: 1. 'Prolifertating sympathoblasts'\n",
       "2. 'Sympathoblasts'\n",
       "3. 'SCPs'\n",
       "4. 'Chromaffin cells'\n",
       "\n",
       "\n"
      ],
      "text/plain": [
       "[1] Chromaffin cells              Sympathoblasts               \n",
       "[3] Prolifertating sympathoblasts SCPs                         \n",
       "4 Levels: Prolifertating sympathoblasts Sympathoblasts ... Chromaffin cells"
      ]
     },
     "metadata": {},
     "output_type": "display_data"
    }
   ],
   "source": [
    "unique(seu$celltype)"
   ]
  },
  {
   "cell_type": "code",
   "execution_count": 12,
   "id": "908d558b",
   "metadata": {
    "vscode": {
     "languageId": "r"
    }
   },
   "outputs": [
    {
     "name": "stderr",
     "output_type": "stream",
     "text": [
      "Warning message:\n",
      "\"\u001b[1m\u001b[22m`PackageCheck()` was deprecated in SeuratObject 5.0.0.\n",
      "\u001b[36mi\u001b[39m Please use `rlang::check_installed()` instead.\n",
      "\u001b[36mi\u001b[39m The deprecated feature was likely used in the \u001b[34mSeurat\u001b[39m package.\n",
      "  Please report the issue at \u001b[3m\u001b[34m<https://github.com/satijalab/seurat/issues>\u001b[39m\u001b[23m.\"\n",
      "Warning message:\n",
      "\"\u001b[1m\u001b[22mThe `slot` argument of `GetAssayData()` is deprecated as of SeuratObject 5.0.0.\n",
      "\u001b[36mi\u001b[39m Please use the `layer` argument instead.\n",
      "\u001b[36mi\u001b[39m The deprecated feature was likely used in the \u001b[34mSeurat\u001b[39m package.\n",
      "  Please report the issue at \u001b[3m\u001b[34m<https://github.com/satijalab/seurat/issues>\u001b[39m\u001b[23m.\"\n",
      "Warning message:\n",
      "\"Monocle 3 trajectories require cluster partitions, which Seurat does not calculate. Please run 'cluster_cells' on your cell_data_set object\"\n"
     ]
    }
   ],
   "source": [
    "# Convert Seurat to CellDataSet\n",
    "cds <- as.cell_data_set(seu)\n",
    "\n",
    "# Transfer the UMAP coordinates from Seurat to Monocle3\n",
    "reducedDim(cds, \"UMAP\") <- seu@reductions$umap@cell.embeddings"
   ]
  },
  {
   "cell_type": "code",
   "execution_count": 14,
   "id": "607f5b6d",
   "metadata": {
    "vscode": {
     "languageId": "r"
    }
   },
   "outputs": [],
   "source": [
    "# Cluster cells \n",
    "cds <- cluster_cells(cds, reduction_method = \"UMAP\")"
   ]
  },
  {
   "cell_type": "code",
   "execution_count": 15,
   "id": "9d4ed071",
   "metadata": {
    "vscode": {
     "languageId": "r"
    }
   },
   "outputs": [
    {
     "name": "stdout",
     "output_type": "stream",
     "text": [
      "  |======================================================================| 100%\n",
      "  |======================================================================| 100%\n"
     ]
    }
   ],
   "source": [
    "# Learn the trajectory graph\n",
    "cds <- learn_graph(cds)"
   ]
  },
  {
   "cell_type": "markdown",
   "id": "183f3cb8",
   "metadata": {
    "vscode": {
     "languageId": "r"
    }
   },
   "source": [
    "## SCP and Chromaffin"
   ]
  },
  {
   "cell_type": "code",
   "execution_count": null,
   "id": "f8d45c04",
   "metadata": {
    "vscode": {
     "languageId": "r"
    }
   },
   "outputs": [],
   "source": []
  },
  {
   "cell_type": "markdown",
   "id": "9f29eef2",
   "metadata": {},
   "source": [
    "## SCPs and Sympathoblasts"
   ]
  },
  {
   "cell_type": "code",
   "execution_count": null,
   "id": "3eaea1eb",
   "metadata": {
    "vscode": {
     "languageId": "r"
    }
   },
   "outputs": [],
   "source": []
  },
  {
   "cell_type": "markdown",
   "id": "b591ad40",
   "metadata": {},
   "source": [
    "## Chromaffin and Sympathoblasts"
   ]
  },
  {
   "cell_type": "markdown",
   "id": "c78caaf9",
   "metadata": {},
   "source": []
  }
 ],
 "metadata": {
  "kernelspec": {
   "display_name": "R",
   "language": "R",
   "name": "ir"
  },
  "language_info": {
   "codemirror_mode": "r",
   "file_extension": ".r",
   "mimetype": "text/x-r-source",
   "name": "R",
   "pygments_lexer": "r",
   "version": "4.5.0"
  }
 },
 "nbformat": 4,
 "nbformat_minor": 5
}
